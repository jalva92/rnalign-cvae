{
 "cells": [
  {
   "cell_type": "markdown",
   "metadata": {},
   "source": [
    "# Model Exploration\n",
    "\n",
    "This notebook is for interactive exploration of the cVAE model.\n",
    "\n",
    "- Load trained models\n",
    "- Visualize latent space\n",
    "- Analyze learned representations\n",
    "- Experiment with different inputs"
   ]
  }
 ],
 "metadata": {
  "kernelspec": {
   "display_name": "Python 3",
   "language": "python",
   "name": "python3"
  },
  "language_info": {
   "name": "python"
  }
 },
 "nbformat": 4,
 "nbformat_minor": 2
}